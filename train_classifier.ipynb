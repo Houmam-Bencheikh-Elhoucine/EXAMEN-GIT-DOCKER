{
 "cells": [
  {
   "cell_type": "markdown",
   "id": "a1fdeeab-7786-4d42-8565-0859b7a2fc50",
   "metadata": {},
   "source": [
    "# Examen:\n",
    "## Partie 01:\n",
    "Réalisation de la génération de données synthétiques pour l'entrainement.\n",
    "Analyse de données générées.\n"
   ]
  },
  {
   "cell_type": "code",
   "execution_count": 13,
   "id": "4f6d3a04-775e-4646-91d7-cf4ad3e6d5df",
   "metadata": {},
   "outputs": [],
   "source": [
    "from sklearn.datasets import make_classification\n",
    "import sklearn\n",
    "import matplotlib.pyplot as plt"
   ]
  },
  {
   "cell_type": "code",
   "execution_count": 14,
   "id": "67992619-b403-466d-93f3-7ee5b4a796aa",
   "metadata": {},
   "outputs": [],
   "source": [
    "def generate_data(\n",
    "    n_samples=100, \n",
    "    n_features=20, \n",
    "    n_informative=2,\n",
    "    n_classes=2, \n",
    "    n_clusters_per_class=2,\n",
    "    class_sep=1.0, \n",
    "    shuffle=True, \n",
    "    random_state=0\n",
    "):\n",
    "    return make_classification(\n",
    "        n_samples=n_samples, \n",
    "        n_features=n_features, \n",
    "        n_informative=n_informative, \n",
    "        n_classes=n_classes, \n",
    "        n_clusters_per_class=n_clusters_per_class, \n",
    "        shuffle=shuffle, \n",
    "        random_state=random_state\n",
    "    )\n"
   ]
  },
  {
   "cell_type": "code",
   "execution_count": 15,
   "id": "0429225d-04cd-4955-a912-80a4db441402",
   "metadata": {},
   "outputs": [
    {
     "data": {
      "text/plain": [
       "(array([[ 2.06062692,  1.09749627, -0.57541347, ...,  1.36367022,\n",
       "         -0.96010017, -0.58659684],\n",
       "        [-0.63017806, -1.09440067, -0.50608186, ...,  2.2983497 ,\n",
       "         -0.95294454,  3.09680677],\n",
       "        [-0.76326301,  0.1336049 , -0.60590656, ...,  0.9689206 ,\n",
       "         -0.96486058,  0.04172357],\n",
       "        ...,\n",
       "        [-0.09924441, -0.44962228, -0.11939149, ...,  0.05994888,\n",
       "         -0.17718815, -0.08533651],\n",
       "        [ 0.50766231,  0.9375358 , -0.0784917 , ...,  0.68426767,\n",
       "         -0.18016957,  1.36082402],\n",
       "        [ 1.67220456,  0.60158459,  0.28070093, ...,  2.6261866 ,\n",
       "          0.14332757, -1.70270045]]),\n",
       " array([1, 1, 1, ..., 0, 0, 1]))"
      ]
     },
     "execution_count": 15,
     "metadata": {},
     "output_type": "execute_result"
    }
   ],
   "source": [
    "data = generate_data(n_samples=10000, n_features=10)\n",
    "data"
   ]
  },
  {
   "cell_type": "code",
   "execution_count": null,
   "id": "380b8626-5385-47bb-9503-f95c35750737",
   "metadata": {},
   "outputs": [],
   "source": []
  }
 ],
 "metadata": {
  "kernelspec": {
   "display_name": "Python 3 (ipykernel)",
   "language": "python",
   "name": "python3"
  },
  "language_info": {
   "codemirror_mode": {
    "name": "ipython",
    "version": 3
   },
   "file_extension": ".py",
   "mimetype": "text/x-python",
   "name": "python",
   "nbconvert_exporter": "python",
   "pygments_lexer": "ipython3",
   "version": "3.10.12"
  }
 },
 "nbformat": 4,
 "nbformat_minor": 5
}
